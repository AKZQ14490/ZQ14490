{
  "cells": [
    {
      "cell_type": "markdown",
      "id": "8b728f6d",
      "metadata": {
        "id": "8b728f6d"
      },
      "source": [
        "## Part I: Distributional Hypothesis\n",
        "\n",
        "In this section, I applied the distributional hypothesis, which suggests that words used in similar contexts tend to have similar meanings. I carefully evaluated each candidate word across four sentence contexts. If a word made sense in a sentence, I gave it a score of 1; otherwise, I gave it a 0. The word with the highest score was selected as the most contextually appropriate option.\n"
      ]
    },
    {
      "cell_type": "markdown",
      "id": "7b3e4065",
      "metadata": {
        "id": "7b3e4065"
      },
      "source": [
        "\n",
        "### Example 1\n",
        "\n",
        "**Sentences**:  \n",
        "1. A piece of ______ is on the plate.  \n",
        "2. Everyone enjoys eating ______.  \n",
        "3. You can cut ______ with a knife.  \n",
        "4. We make ______ from milk.\n",
        "\n",
        "**Candidates**: cheese, cake, butter\n",
        "\n",
        "| Sentence # | cheese | cake | butter |\n",
        "|------------|--------|------|--------|\n",
        "| 1          |   1    |  1   |   0    |\n",
        "| 2          |   1    |  1   |   0    |\n",
        "| 3          |   1    |  1   |   0    |\n",
        "| 4          |   1    |  0   |   1    |\n",
        "| **Total**  | **4**  |  3   |   1    |\n",
        "\n",
        "**Final Answer**: **cheese**\n",
        "\n",
        "- Cheese fits well in all four contexts.\n",
        "- Cake does not work for sentence 4 because it is not made from milk.\n",
        "- Butter does not fit sentences 1, 2, or 3. It is not typically served in pieces, not commonly eaten alone, and not usually cut with a knife.\n"
      ]
    },
    {
      "cell_type": "markdown",
      "id": "7ae89fed",
      "metadata": {
        "id": "7ae89fed"
      },
      "source": [
        "\n",
        "### Example 2\n",
        "\n",
        "**Sentences**:  \n",
        "1. The ______ is parked in the driveway.  \n",
        "2. He bought a new ______ for his birthday.  \n",
        "3. ______ can drive really fast.  \n",
        "4. People often wash their ______ on the weekends.\n",
        "\n",
        "**Candidates**: car, truck, motorcycle\n",
        "\n",
        "| Sentence # | car | truck | motorcycle |\n",
        "|------------|-----|-------|------------|\n",
        "| 1          |  1  |   1   |     1      |\n",
        "| 2          |  1  |   0   |     1      |\n",
        "| 3          |  1  |   0   |     1      |\n",
        "| 4          |  1  |   1   |     0      |\n",
        "| **Total**  | **4**|  2   |     3      |\n",
        "\n",
        "**Final Answer**: **car**\n",
        "\n",
        "- Car is the only word that fits all four sentences naturally.\n",
        "- Truck does not work well for sentence 2, since it is not commonly bought as a birthday gift, and for sentence 3, as it is not typically associated with fast driving.\n",
        "- Motorcycle does not fit sentence 4 well because people do not usually wash motorcycles as often as cars.\n"
      ]
    },
    {
      "cell_type": "markdown",
      "id": "8bea57ed",
      "metadata": {
        "id": "8bea57ed"
      },
      "source": [
        "\n",
        "### Example 3\n",
        "\n",
        "**Sentences**:  \n",
        "1. I read an interesting ______ last night.  \n",
        "2. Many people enjoy a good ______ before bed.  \n",
        "3. ______ often has chapters and a cover.  \n",
        "4. You can borrow a ______ from the library.\n",
        "\n",
        "**Candidates**: book, novel, story\n",
        "\n",
        "| Sentence # | book | novel | story |\n",
        "|------------|------|-------|-------|\n",
        "| 1          |  1   |   1   |   1   |\n",
        "| 2          |  1   |   1   |   1   |\n",
        "| 3          |  1   |   1   |   0   |\n",
        "| 4          |  1   |   1   |   0   |\n",
        "| **Total**  | **4**|   4   |   2   |\n",
        "\n",
        "**Final Answer**: **book**\n",
        "\n",
        "- Book fits well in all four sentences and is a general term that covers novels and stories.\n",
        "- Novel fits all four too, but it is more specific than book.\n",
        "- Story does not work for sentences 3 and 4. Stories do not usually have chapters or covers, and they are not typically borrowed from libraries.\n"
      ]
    },
    {
      "cell_type": "markdown",
      "id": "f418317b",
      "metadata": {
        "id": "f418317b"
      },
      "source": [
        "# Part II: Text Classification (Show vs Tell using Quality Label)"
      ]
    },
    {
      "cell_type": "code",
      "execution_count": null,
      "id": "36e357ea",
      "metadata": {
        "colab": {
          "base_uri": "https://localhost:8080/"
        },
        "id": "36e357ea",
        "outputId": "27faa39a-6014-4356-c38a-e728d20ff4ad"
      },
      "outputs": [
        {
          "name": "stdout",
          "output_type": "stream",
          "text": [
            "Requirement already satisfied: nltk in /usr/local/lib/python3.11/dist-packages (3.9.1)\n",
            "Requirement already satisfied: click in /usr/local/lib/python3.11/dist-packages (from nltk) (8.1.8)\n",
            "Requirement already satisfied: joblib in /usr/local/lib/python3.11/dist-packages (from nltk) (1.4.2)\n",
            "Requirement already satisfied: regex>=2021.8.3 in /usr/local/lib/python3.11/dist-packages (from nltk) (2024.11.6)\n",
            "Requirement already satisfied: tqdm in /usr/local/lib/python3.11/dist-packages (from nltk) (4.67.1)\n"
          ]
        },
        {
          "name": "stderr",
          "output_type": "stream",
          "text": [
            "[nltk_data] Downloading package punkt_tab to /root/nltk_data...\n",
            "[nltk_data]   Unzipping tokenizers/punkt_tab.zip.\n",
            "[nltk_data] Downloading package punkt to /root/nltk_data...\n",
            "[nltk_data]   Unzipping tokenizers/punkt.zip.\n",
            "[nltk_data] Downloading package stopwords to /root/nltk_data...\n",
            "[nltk_data]   Unzipping corpora/stopwords.zip.\n",
            "[nltk_data] Downloading package wordnet to /root/nltk_data...\n"
          ]
        },
        {
          "data": {
            "text/plain": [
              "True"
            ]
          },
          "execution_count": 4,
          "metadata": {},
          "output_type": "execute_result"
        }
      ],
      "source": [
        "!pip install nltk\n",
        "import nltk\n",
        "\n",
        "# Download the 'punkt_tab' data package\n",
        "nltk.download('punkt_tab')\n",
        "\n",
        "# Download or update other required packages\n",
        "nltk.download('punkt', force=True)\n",
        "nltk.download('stopwords', force=True)\n",
        "nltk.download('wordnet', force=True)"
      ]
    },
    {
      "cell_type": "markdown",
      "id": "30fcce1e",
      "metadata": {
        "id": "30fcce1e"
      },
      "source": [
        "#1. Preprocessing + Model Setup"
      ]
    },
    {
      "cell_type": "code",
      "execution_count": null,
      "id": "57ed3981",
      "metadata": {
        "colab": {
          "base_uri": "https://localhost:8080/"
        },
        "id": "57ed3981",
        "outputId": "4aa9fd76-45ef-4077-cfa2-5dbb6fab2be4"
      },
      "outputs": [
        {
          "name": "stderr",
          "output_type": "stream",
          "text": [
            "[nltk_data] Downloading package stopwords to /root/nltk_data...\n",
            "[nltk_data]   Package stopwords is already up-to-date!\n",
            "[nltk_data] Downloading package wordnet to /root/nltk_data...\n",
            "[nltk_data]   Package wordnet is already up-to-date!\n",
            "[nltk_data] Downloading package omw-1.4 to /root/nltk_data...\n"
          ]
        }
      ],
      "source": [
        "import pandas as pd\n",
        "import string\n",
        "import re\n",
        "import numpy as np\n",
        "from sklearn.model_selection import StratifiedKFold, LeaveOneGroupOut\n",
        "from sklearn.pipeline import Pipeline\n",
        "from sklearn.feature_extraction.text import TfidfVectorizer, ENGLISH_STOP_WORDS\n",
        "from sklearn.linear_model import LogisticRegression\n",
        "from sklearn.naive_bayes import MultinomialNB\n",
        "from sklearn.svm import LinearSVC\n",
        "from sklearn.metrics import roc_auc_score\n",
        "import nltk\n",
        "from nltk.corpus import stopwords\n",
        "from nltk.stem import WordNetLemmatizer\n",
        "\n",
        "# Load your dataset\n",
        "df = pd.read_csv(\"data_stories_one_shot.csv\")\n",
        "\n",
        "# Run this once to download required resources\n",
        "nltk.download(\"stopwords\")\n",
        "nltk.download(\"wordnet\")\n",
        "nltk.download(\"omw-1.4\")\n",
        "\n",
        "lemmatizer = WordNetLemmatizer()\n",
        "stop_words = set(stopwords.words(\"english\"))\n",
        "\n",
        "def preprocess(text):\n",
        "    # Lowercase\n",
        "    text = text.lower()\n",
        "    # Remove punctuation\n",
        "    text = re.sub(f\"[{re.escape(string.punctuation)}]\", \"\", text)\n",
        "    # Tokenize\n",
        "    tokens = text.split()\n",
        "    # Remove stopwords and lemmatize\n",
        "    tokens = [lemmatizer.lemmatize(t) for t in tokens if t not in stop_words]\n",
        "    return \" \".join(tokens)\n",
        "\n",
        "\n",
        "df[\"Processed_Sentence\"] = df[\"Sentence\"].apply(preprocess)\n",
        "df[\"Label\"] = df[\"Stage\"].apply(lambda x: 1 if x == 1 else 0)  # Show = 1, Tell = 0\n"
      ]
    },
    {
      "cell_type": "markdown",
      "id": "329c9d18",
      "metadata": {
        "id": "329c9d18"
      },
      "source": [
        "# 2. Define Models"
      ]
    },
    {
      "cell_type": "code",
      "execution_count": null,
      "id": "a40a47fa",
      "metadata": {
        "id": "a40a47fa"
      },
      "outputs": [],
      "source": [
        "models = {\n",
        "    \"Logistic Regression\": LogisticRegression(max_iter=1000),\n",
        "    \"Naive Bayes\": MultinomialNB(),\n",
        "    \"SVM\": LinearSVC()\n",
        "}\n"
      ]
    },
    {
      "cell_type": "markdown",
      "id": "b7011489",
      "metadata": {
        "id": "b7011489"
      },
      "source": [
        "#Cross-Validation (for Zero-Shot results only)"
      ]
    },
    {
      "cell_type": "code",
      "execution_count": null,
      "id": "dcd6c818",
      "metadata": {
        "id": "dcd6c818"
      },
      "outputs": [],
      "source": [
        "def zero_shot_cross_val(X, y, models):\n",
        "    skf = StratifiedKFold(n_splits=5, shuffle=True, random_state=42)\n",
        "    results = {}\n",
        "\n",
        "    for name, model in models.items():\n",
        "        pipeline = Pipeline([(\"tfidf\", TfidfVectorizer()), (\"clf\", model)])\n",
        "        aucs = []\n",
        "        for train_idx, test_idx in skf.split(X, y):\n",
        "            X_train, X_test = X.iloc[train_idx], X.iloc[test_idx]\n",
        "            y_train, y_test = y.iloc[train_idx], y.iloc[test_idx]\n",
        "            pipeline.fit(X_train, y_train)\n",
        "            if name == \"SVM\":\n",
        "                scores = pipeline.decision_function(X_test)\n",
        "            else:\n",
        "                scores = pipeline.predict_proba(X_test)[:, 1]\n",
        "            auc = roc_auc_score(y_test, scores)\n",
        "            aucs.append(auc)\n",
        "        results[name] = np.mean(aucs)\n",
        "    return results\n"
      ]
    },
    {
      "cell_type": "markdown",
      "id": "336582db",
      "metadata": {
        "id": "336582db"
      },
      "source": [
        "#4.Leave-One-Plot-Out( for  Zero-Shot results only)"
      ]
    },
    {
      "cell_type": "code",
      "execution_count": null,
      "id": "9337a728",
      "metadata": {
        "id": "9337a728"
      },
      "outputs": [],
      "source": [
        "def zero_shot_leave_one_out(X, y, groups, models):\n",
        "    logo = LeaveOneGroupOut()\n",
        "    results = {}\n",
        "\n",
        "    for name, model in models.items():\n",
        "        pipeline = Pipeline([(\"tfidf\", TfidfVectorizer()), (\"clf\", model)])\n",
        "        aucs = []\n",
        "        for train_idx, test_idx in logo.split(X, y, groups):\n",
        "            X_train, X_test = X.iloc[train_idx], X.iloc[test_idx]\n",
        "            y_train, y_test = y.iloc[train_idx], y.iloc[test_idx]\n",
        "            pipeline.fit(X_train, y_train)\n",
        "            if name == \"SVM\":\n",
        "                scores = pipeline.decision_function(X_test)\n",
        "            else:\n",
        "                scores = pipeline.predict_proba(X_test)[:, 1]\n",
        "            if len(np.unique(y_test)) == 2:\n",
        "                auc = roc_auc_score(y_test, scores)\n",
        "                aucs.append(auc)\n",
        "        results[name] = np.mean(aucs)\n",
        "    return results\n"
      ]
    },
    {
      "cell_type": "markdown",
      "id": "c5fe0e49",
      "metadata": {
        "id": "c5fe0e49"
      },
      "source": [
        "#5. Run Both Evaluations (SVM, logistic regression, Naive Bayes)"
      ]
    },
    {
      "cell_type": "code",
      "execution_count": null,
      "id": "3934d2a1",
      "metadata": {
        "colab": {
          "base_uri": "https://localhost:8080/"
        },
        "id": "3934d2a1",
        "outputId": "b42bc4a1-f008-41af-a22d-be65ba115107"
      },
      "outputs": [
        {
          "name": "stdout",
          "output_type": "stream",
          "text": [
            "Zero-Shot Cross-Validation AUC:\n",
            "Logistic Regression: 0.8990\n",
            "Naive Bayes: 0.8890\n",
            "SVM: 0.8939\n",
            "\n",
            "Zero-Shot Leave-One-Plot-Out AUC:\n",
            "Logistic Regression: 0.9496\n",
            "Naive Bayes: 0.9486\n",
            "SVM: 0.9615\n"
          ]
        }
      ],
      "source": [
        "X = df[\"Processed_Sentence\"]\n",
        "y = df[\"Label\"]\n",
        "groups = df[\"Plot_Name\"]\n",
        "\n",
        "cv_results = zero_shot_cross_val(X, y, models)\n",
        "print(\"Zero-Shot Cross-Validation AUC:\")\n",
        "for k, v in cv_results.items():\n",
        "    print(f\"{k}: {v:.4f}\")\n",
        "\n",
        "loo_results = zero_shot_leave_one_out(X, y, groups, models)\n",
        "print(\"\\nZero-Shot Leave-One-Plot-Out AUC:\")\n",
        "for k, v in loo_results.items():\n",
        "    print(f\"{k}: {v:.4f}\")\n"
      ]
    },
    {
      "cell_type": "markdown",
      "id": "d4cec9f7",
      "metadata": {
        "id": "d4cec9f7"
      },
      "source": [
        "#For random forest"
      ]
    },
    {
      "cell_type": "code",
      "execution_count": null,
      "id": "e97d3c65",
      "metadata": {
        "colab": {
          "base_uri": "https://localhost:8080/"
        },
        "id": "e97d3c65",
        "outputId": "b7f0d0ef-53c4-42f9-d52d-3c5762a5ea22"
      },
      "outputs": [
        {
          "name": "stdout",
          "output_type": "stream",
          "text": [
            "Random Forest CV AUC: 0.8513\n",
            "Random Forest Leave-One-Plot-Out AUC: 0.9258\n"
          ]
        }
      ],
      "source": [
        "from sklearn.ensemble import RandomForestClassifier\n",
        "from sklearn.model_selection import StratifiedKFold\n",
        "from sklearn.pipeline import Pipeline\n",
        "from sklearn.feature_extraction.text import TfidfVectorizer\n",
        "from sklearn.metrics import roc_auc_score\n",
        "import numpy as np\n",
        "\n",
        "# Define Random Forest pipeline\n",
        "rf_model = Pipeline([\n",
        "    (\"tfidf\", TfidfVectorizer()),\n",
        "    (\"clf\", RandomForestClassifier(n_estimators=100, random_state=42))\n",
        "])\n",
        "\n",
        "# 5-fold Stratified Cross-Validation\n",
        "skf = StratifiedKFold(n_splits=5, shuffle=True, random_state=42)\n",
        "auc_scores = []\n",
        "\n",
        "for train_idx, test_idx in skf.split(X, y):\n",
        "    X_train, X_test = X.iloc[train_idx], X.iloc[test_idx]\n",
        "    y_train, y_test = y.iloc[train_idx], y.iloc[test_idx]\n",
        "\n",
        "    rf_model.fit(X_train, y_train)\n",
        "    probas = rf_model.predict_proba(X_test)[:, 1]\n",
        "    auc = roc_auc_score(y_test, probas)\n",
        "    auc_scores.append(auc)\n",
        "\n",
        "print(f\"Random Forest CV AUC: {np.mean(auc_scores):.4f}\")\n",
        "\n",
        "from sklearn.model_selection import LeaveOneGroupOut\n",
        "\n",
        "logo = LeaveOneGroupOut()\n",
        "logo_aucs = []\n",
        "\n",
        "for train_idx, test_idx in logo.split(X, y, groups):\n",
        "    X_train, X_test = X.iloc[train_idx], X.iloc[test_idx]\n",
        "    y_train, y_test = y.iloc[train_idx], y.iloc[test_idx]\n",
        "\n",
        "    rf_model.fit(X_train, y_train)\n",
        "    if len(np.unique(y_test)) == 2:  # Avoid AUC error if test set lacks class diversity\n",
        "        probas = rf_model.predict_proba(X_test)[:, 1]\n",
        "        auc = roc_auc_score(y_test, probas)\n",
        "        logo_aucs.append(auc)\n",
        "\n",
        "print(f\"Random Forest Leave-One-Plot-Out AUC: {np.mean(logo_aucs):.4f}\")\n",
        "\n"
      ]
    },
    {
      "cell_type": "markdown",
      "id": "3cf18757",
      "metadata": {
        "id": "3cf18757"
      },
      "source": [
        "#Bonus"
      ]
    },
    {
      "cell_type": "code",
      "execution_count": null,
      "id": "dffb39ad",
      "metadata": {
        "colab": {
          "base_uri": "https://localhost:8080/"
        },
        "id": "dffb39ad",
        "outputId": "9428b181-bebd-46ff-ac2d-f0861e2b6ec0"
      },
      "outputs": [
        {
          "name": "stdout",
          "output_type": "stream",
          "text": [
            "Requirement already satisfied: sentence-transformers in /usr/local/lib/python3.11/dist-packages (3.4.1)\n",
            "Requirement already satisfied: scikit-learn in /usr/local/lib/python3.11/dist-packages (1.6.1)\n",
            "Requirement already satisfied: transformers<5.0.0,>=4.41.0 in /usr/local/lib/python3.11/dist-packages (from sentence-transformers) (4.51.3)\n",
            "Requirement already satisfied: tqdm in /usr/local/lib/python3.11/dist-packages (from sentence-transformers) (4.67.1)\n",
            "Requirement already satisfied: torch>=1.11.0 in /usr/local/lib/python3.11/dist-packages (from sentence-transformers) (2.6.0+cu124)\n",
            "Requirement already satisfied: scipy in /usr/local/lib/python3.11/dist-packages (from sentence-transformers) (1.15.2)\n",
            "Requirement already satisfied: huggingface-hub>=0.20.0 in /usr/local/lib/python3.11/dist-packages (from sentence-transformers) (0.30.2)\n",
            "Requirement already satisfied: Pillow in /usr/local/lib/python3.11/dist-packages (from sentence-transformers) (11.2.1)\n",
            "Requirement already satisfied: numpy>=1.19.5 in /usr/local/lib/python3.11/dist-packages (from scikit-learn) (2.0.2)\n",
            "Requirement already satisfied: joblib>=1.2.0 in /usr/local/lib/python3.11/dist-packages (from scikit-learn) (1.4.2)\n",
            "Requirement already satisfied: threadpoolctl>=3.1.0 in /usr/local/lib/python3.11/dist-packages (from scikit-learn) (3.6.0)\n",
            "Requirement already satisfied: filelock in /usr/local/lib/python3.11/dist-packages (from huggingface-hub>=0.20.0->sentence-transformers) (3.18.0)\n",
            "Requirement already satisfied: fsspec>=2023.5.0 in /usr/local/lib/python3.11/dist-packages (from huggingface-hub>=0.20.0->sentence-transformers) (2025.3.2)\n",
            "Requirement already satisfied: packaging>=20.9 in /usr/local/lib/python3.11/dist-packages (from huggingface-hub>=0.20.0->sentence-transformers) (24.2)\n",
            "Requirement already satisfied: pyyaml>=5.1 in /usr/local/lib/python3.11/dist-packages (from huggingface-hub>=0.20.0->sentence-transformers) (6.0.2)\n",
            "Requirement already satisfied: requests in /usr/local/lib/python3.11/dist-packages (from huggingface-hub>=0.20.0->sentence-transformers) (2.32.3)\n",
            "Requirement already satisfied: typing-extensions>=3.7.4.3 in /usr/local/lib/python3.11/dist-packages (from huggingface-hub>=0.20.0->sentence-transformers) (4.13.2)\n",
            "Requirement already satisfied: networkx in /usr/local/lib/python3.11/dist-packages (from torch>=1.11.0->sentence-transformers) (3.4.2)\n",
            "Requirement already satisfied: jinja2 in /usr/local/lib/python3.11/dist-packages (from torch>=1.11.0->sentence-transformers) (3.1.6)\n",
            "Collecting nvidia-cuda-nvrtc-cu12==12.4.127 (from torch>=1.11.0->sentence-transformers)\n",
            "  Downloading nvidia_cuda_nvrtc_cu12-12.4.127-py3-none-manylinux2014_x86_64.whl.metadata (1.5 kB)\n",
            "Collecting nvidia-cuda-runtime-cu12==12.4.127 (from torch>=1.11.0->sentence-transformers)\n",
            "  Downloading nvidia_cuda_runtime_cu12-12.4.127-py3-none-manylinux2014_x86_64.whl.metadata (1.5 kB)\n",
            "Collecting nvidia-cuda-cupti-cu12==12.4.127 (from torch>=1.11.0->sentence-transformers)\n",
            "  Downloading nvidia_cuda_cupti_cu12-12.4.127-py3-none-manylinux2014_x86_64.whl.metadata (1.6 kB)\n",
            "Collecting nvidia-cudnn-cu12==9.1.0.70 (from torch>=1.11.0->sentence-transformers)\n",
            "  Downloading nvidia_cudnn_cu12-9.1.0.70-py3-none-manylinux2014_x86_64.whl.metadata (1.6 kB)\n",
            "Collecting nvidia-cublas-cu12==12.4.5.8 (from torch>=1.11.0->sentence-transformers)\n",
            "  Downloading nvidia_cublas_cu12-12.4.5.8-py3-none-manylinux2014_x86_64.whl.metadata (1.5 kB)\n",
            "Collecting nvidia-cufft-cu12==11.2.1.3 (from torch>=1.11.0->sentence-transformers)\n",
            "  Downloading nvidia_cufft_cu12-11.2.1.3-py3-none-manylinux2014_x86_64.whl.metadata (1.5 kB)\n",
            "Collecting nvidia-curand-cu12==10.3.5.147 (from torch>=1.11.0->sentence-transformers)\n",
            "  Downloading nvidia_curand_cu12-10.3.5.147-py3-none-manylinux2014_x86_64.whl.metadata (1.5 kB)\n",
            "Collecting nvidia-cusolver-cu12==11.6.1.9 (from torch>=1.11.0->sentence-transformers)\n",
            "  Downloading nvidia_cusolver_cu12-11.6.1.9-py3-none-manylinux2014_x86_64.whl.metadata (1.6 kB)\n",
            "Collecting nvidia-cusparse-cu12==12.3.1.170 (from torch>=1.11.0->sentence-transformers)\n",
            "  Downloading nvidia_cusparse_cu12-12.3.1.170-py3-none-manylinux2014_x86_64.whl.metadata (1.6 kB)\n",
            "Requirement already satisfied: nvidia-cusparselt-cu12==0.6.2 in /usr/local/lib/python3.11/dist-packages (from torch>=1.11.0->sentence-transformers) (0.6.2)\n",
            "Requirement already satisfied: nvidia-nccl-cu12==2.21.5 in /usr/local/lib/python3.11/dist-packages (from torch>=1.11.0->sentence-transformers) (2.21.5)\n",
            "Requirement already satisfied: nvidia-nvtx-cu12==12.4.127 in /usr/local/lib/python3.11/dist-packages (from torch>=1.11.0->sentence-transformers) (12.4.127)\n",
            "Collecting nvidia-nvjitlink-cu12==12.4.127 (from torch>=1.11.0->sentence-transformers)\n",
            "  Downloading nvidia_nvjitlink_cu12-12.4.127-py3-none-manylinux2014_x86_64.whl.metadata (1.5 kB)\n",
            "Requirement already satisfied: triton==3.2.0 in /usr/local/lib/python3.11/dist-packages (from torch>=1.11.0->sentence-transformers) (3.2.0)\n",
            "Requirement already satisfied: sympy==1.13.1 in /usr/local/lib/python3.11/dist-packages (from torch>=1.11.0->sentence-transformers) (1.13.1)\n",
            "Requirement already satisfied: mpmath<1.4,>=1.1.0 in /usr/local/lib/python3.11/dist-packages (from sympy==1.13.1->torch>=1.11.0->sentence-transformers) (1.3.0)\n",
            "Requirement already satisfied: regex!=2019.12.17 in /usr/local/lib/python3.11/dist-packages (from transformers<5.0.0,>=4.41.0->sentence-transformers) (2024.11.6)\n",
            "Requirement already satisfied: tokenizers<0.22,>=0.21 in /usr/local/lib/python3.11/dist-packages (from transformers<5.0.0,>=4.41.0->sentence-transformers) (0.21.1)\n",
            "Requirement already satisfied: safetensors>=0.4.3 in /usr/local/lib/python3.11/dist-packages (from transformers<5.0.0,>=4.41.0->sentence-transformers) (0.5.3)\n",
            "Requirement already satisfied: MarkupSafe>=2.0 in /usr/local/lib/python3.11/dist-packages (from jinja2->torch>=1.11.0->sentence-transformers) (3.0.2)\n",
            "Requirement already satisfied: charset-normalizer<4,>=2 in /usr/local/lib/python3.11/dist-packages (from requests->huggingface-hub>=0.20.0->sentence-transformers) (3.4.1)\n",
            "Requirement already satisfied: idna<4,>=2.5 in /usr/local/lib/python3.11/dist-packages (from requests->huggingface-hub>=0.20.0->sentence-transformers) (3.10)\n",
            "Requirement already satisfied: urllib3<3,>=1.21.1 in /usr/local/lib/python3.11/dist-packages (from requests->huggingface-hub>=0.20.0->sentence-transformers) (2.4.0)\n",
            "Requirement already satisfied: certifi>=2017.4.17 in /usr/local/lib/python3.11/dist-packages (from requests->huggingface-hub>=0.20.0->sentence-transformers) (2025.1.31)\n",
            "Downloading nvidia_cublas_cu12-12.4.5.8-py3-none-manylinux2014_x86_64.whl (363.4 MB)\n",
            "\u001b[2K   \u001b[90m━━━━━━━━━━━━━━━━━━━━━━━━━━━━━━━━━━━━━━━━\u001b[0m \u001b[32m363.4/363.4 MB\u001b[0m \u001b[31m5.0 MB/s\u001b[0m eta \u001b[36m0:00:00\u001b[0m\n",
            "\u001b[?25hDownloading nvidia_cuda_cupti_cu12-12.4.127-py3-none-manylinux2014_x86_64.whl (13.8 MB)\n",
            "\u001b[2K   \u001b[90m━━━━━━━━━━━━━━━━━━━━━━━━━━━━━━━━━━━━━━━━\u001b[0m \u001b[32m13.8/13.8 MB\u001b[0m \u001b[31m60.3 MB/s\u001b[0m eta \u001b[36m0:00:00\u001b[0m\n",
            "\u001b[?25hDownloading nvidia_cuda_nvrtc_cu12-12.4.127-py3-none-manylinux2014_x86_64.whl (24.6 MB)\n",
            "\u001b[2K   \u001b[90m━━━━━━━━━━━━━━━━━━━━━━━━━━━━━━━━━━━━━━━━\u001b[0m \u001b[32m24.6/24.6 MB\u001b[0m \u001b[31m35.3 MB/s\u001b[0m eta \u001b[36m0:00:00\u001b[0m\n",
            "\u001b[?25hDownloading nvidia_cuda_runtime_cu12-12.4.127-py3-none-manylinux2014_x86_64.whl (883 kB)\n",
            "\u001b[2K   \u001b[90m━━━━━━━━━━━━━━━━━━━━━━━━━━━━━━━━━━━━━━━━\u001b[0m \u001b[32m883.7/883.7 kB\u001b[0m \u001b[31m44.1 MB/s\u001b[0m eta \u001b[36m0:00:00\u001b[0m\n",
            "\u001b[?25hDownloading nvidia_cudnn_cu12-9.1.0.70-py3-none-manylinux2014_x86_64.whl (664.8 MB)\n",
            "\u001b[2K   \u001b[90m━━━━━━━━━━━━━━━━━━━━━━━━━━━━━━━━━━━━━━━━\u001b[0m \u001b[32m664.8/664.8 MB\u001b[0m \u001b[31m2.9 MB/s\u001b[0m eta \u001b[36m0:00:00\u001b[0m\n",
            "\u001b[?25hDownloading nvidia_cufft_cu12-11.2.1.3-py3-none-manylinux2014_x86_64.whl (211.5 MB)\n",
            "\u001b[2K   \u001b[90m━━━━━━━━━━━━━━━━━━━━━━━━━━━━━━━━━━━━━━━━\u001b[0m \u001b[32m211.5/211.5 MB\u001b[0m \u001b[31m5.9 MB/s\u001b[0m eta \u001b[36m0:00:00\u001b[0m\n",
            "\u001b[?25hDownloading nvidia_curand_cu12-10.3.5.147-py3-none-manylinux2014_x86_64.whl (56.3 MB)\n",
            "\u001b[2K   \u001b[90m━━━━━━━━━━━━━━━━━━━━━━━━━━━━━━━━━━━━━━━━\u001b[0m \u001b[32m56.3/56.3 MB\u001b[0m \u001b[31m14.9 MB/s\u001b[0m eta \u001b[36m0:00:00\u001b[0m\n",
            "\u001b[?25hDownloading nvidia_cusolver_cu12-11.6.1.9-py3-none-manylinux2014_x86_64.whl (127.9 MB)\n",
            "\u001b[2K   \u001b[90m━━━━━━━━━━━━━━━━━━━━━━━━━━━━━━━━━━━━━━━━\u001b[0m \u001b[32m127.9/127.9 MB\u001b[0m \u001b[31m7.4 MB/s\u001b[0m eta \u001b[36m0:00:00\u001b[0m\n",
            "\u001b[?25hDownloading nvidia_cusparse_cu12-12.3.1.170-py3-none-manylinux2014_x86_64.whl (207.5 MB)\n",
            "\u001b[2K   \u001b[90m━━━━━━━━━━━━━━━━━━━━━━━━━━━━━━━━━━━━━━━━\u001b[0m \u001b[32m207.5/207.5 MB\u001b[0m \u001b[31m5.2 MB/s\u001b[0m eta \u001b[36m0:00:00\u001b[0m\n",
            "\u001b[?25hDownloading nvidia_nvjitlink_cu12-12.4.127-py3-none-manylinux2014_x86_64.whl (21.1 MB)\n",
            "\u001b[2K   \u001b[90m━━━━━━━━━━━━━━━━━━━━━━━━━━━━━━━━━━━━━━━━\u001b[0m \u001b[32m21.1/21.1 MB\u001b[0m \u001b[31m81.5 MB/s\u001b[0m eta \u001b[36m0:00:00\u001b[0m\n",
            "\u001b[?25hInstalling collected packages: nvidia-nvjitlink-cu12, nvidia-curand-cu12, nvidia-cufft-cu12, nvidia-cuda-runtime-cu12, nvidia-cuda-nvrtc-cu12, nvidia-cuda-cupti-cu12, nvidia-cublas-cu12, nvidia-cusparse-cu12, nvidia-cudnn-cu12, nvidia-cusolver-cu12\n",
            "  Attempting uninstall: nvidia-nvjitlink-cu12\n",
            "    Found existing installation: nvidia-nvjitlink-cu12 12.5.82\n",
            "    Uninstalling nvidia-nvjitlink-cu12-12.5.82:\n",
            "      Successfully uninstalled nvidia-nvjitlink-cu12-12.5.82\n",
            "  Attempting uninstall: nvidia-curand-cu12\n",
            "    Found existing installation: nvidia-curand-cu12 10.3.6.82\n",
            "    Uninstalling nvidia-curand-cu12-10.3.6.82:\n",
            "      Successfully uninstalled nvidia-curand-cu12-10.3.6.82\n",
            "  Attempting uninstall: nvidia-cufft-cu12\n",
            "    Found existing installation: nvidia-cufft-cu12 11.2.3.61\n",
            "    Uninstalling nvidia-cufft-cu12-11.2.3.61:\n",
            "      Successfully uninstalled nvidia-cufft-cu12-11.2.3.61\n",
            "  Attempting uninstall: nvidia-cuda-runtime-cu12\n",
            "    Found existing installation: nvidia-cuda-runtime-cu12 12.5.82\n",
            "    Uninstalling nvidia-cuda-runtime-cu12-12.5.82:\n",
            "      Successfully uninstalled nvidia-cuda-runtime-cu12-12.5.82\n",
            "  Attempting uninstall: nvidia-cuda-nvrtc-cu12\n",
            "    Found existing installation: nvidia-cuda-nvrtc-cu12 12.5.82\n",
            "    Uninstalling nvidia-cuda-nvrtc-cu12-12.5.82:\n",
            "      Successfully uninstalled nvidia-cuda-nvrtc-cu12-12.5.82\n",
            "  Attempting uninstall: nvidia-cuda-cupti-cu12\n",
            "    Found existing installation: nvidia-cuda-cupti-cu12 12.5.82\n",
            "    Uninstalling nvidia-cuda-cupti-cu12-12.5.82:\n",
            "      Successfully uninstalled nvidia-cuda-cupti-cu12-12.5.82\n",
            "  Attempting uninstall: nvidia-cublas-cu12\n",
            "    Found existing installation: nvidia-cublas-cu12 12.5.3.2\n",
            "    Uninstalling nvidia-cublas-cu12-12.5.3.2:\n",
            "      Successfully uninstalled nvidia-cublas-cu12-12.5.3.2\n",
            "  Attempting uninstall: nvidia-cusparse-cu12\n",
            "    Found existing installation: nvidia-cusparse-cu12 12.5.1.3\n",
            "    Uninstalling nvidia-cusparse-cu12-12.5.1.3:\n",
            "      Successfully uninstalled nvidia-cusparse-cu12-12.5.1.3\n",
            "  Attempting uninstall: nvidia-cudnn-cu12\n",
            "    Found existing installation: nvidia-cudnn-cu12 9.3.0.75\n",
            "    Uninstalling nvidia-cudnn-cu12-9.3.0.75:\n",
            "      Successfully uninstalled nvidia-cudnn-cu12-9.3.0.75\n",
            "  Attempting uninstall: nvidia-cusolver-cu12\n",
            "    Found existing installation: nvidia-cusolver-cu12 11.6.3.83\n",
            "    Uninstalling nvidia-cusolver-cu12-11.6.3.83:\n",
            "      Successfully uninstalled nvidia-cusolver-cu12-11.6.3.83\n",
            "Successfully installed nvidia-cublas-cu12-12.4.5.8 nvidia-cuda-cupti-cu12-12.4.127 nvidia-cuda-nvrtc-cu12-12.4.127 nvidia-cuda-runtime-cu12-12.4.127 nvidia-cudnn-cu12-9.1.0.70 nvidia-cufft-cu12-11.2.1.3 nvidia-curand-cu12-10.3.5.147 nvidia-cusolver-cu12-11.6.1.9 nvidia-cusparse-cu12-12.3.1.170 nvidia-nvjitlink-cu12-12.4.127\n"
          ]
        }
      ],
      "source": [
        "pip install sentence-transformers scikit-learn\n"
      ]
    },
    {
      "cell_type": "code",
      "execution_count": null,
      "id": "71c686cb",
      "metadata": {
        "colab": {
          "base_uri": "https://localhost:8080/",
          "height": 667,
          "referenced_widgets": [
            "007c661ea83042daae91709e2e4efe1f",
            "5a4fddb720f949e4a56f8cae8433bb40",
            "7d609f6201ce47938911928278845cef",
            "cff13fd9a66741faa77e45fda06f6ac2",
            "5b1e62837874415eb3fad12d2d6d8ad4",
            "141cb2a918864785b8e6e8cc947c84fd",
            "1609afdc0280442b8a91c20ed835de6e",
            "8528891125d14fe7ba777aa47ceabae4",
            "49e9eb7b4bec453db9d3840719c088f4",
            "a25a61e8050c4a17ab0eddcd64ad5db5",
            "574b1834b5f847d1965abe485946db9a",
            "a632fdda89944f1f9128155d7014c53d",
            "bdf96b3099d1464cb50dd3e03f317723",
            "8ca15af236874ee2953e4e6cd4a6d444",
            "0be67dc52f4d4cb38685a410857b09ea",
            "9a54a86b0382466786aad40a8687f70d",
            "2f1fb81271cb42efb7fd4298b44bbf4d",
            "5ceded4ee33e433b8cd11e76a2fd2c96",
            "494bbfb2d3064af48ab9a9851f651e87",
            "6a63996c4566470b9dee60434445697b",
            "7f9d67700f8b4597ad3095e4a53d2cf5",
            "6b86c70717f549adba81ef267745ea66",
            "64f27b9691fa4a5482448cc2370c4728",
            "bda98936a4dc43b094319d10fbe45a22",
            "d7628db8f7f24f5e9bb1b407384a0d83",
            "1840f3d2f6a34baeb6a012944e1d2927",
            "b1758d06570a41e3b526658a1a20f72f",
            "2fe4292127a2432099fe9de089b00c7a",
            "b845351b8dbd40ebb30950be5bea85d4",
            "65bc7792dae044ab809b19e76cbb06e2",
            "519b171dc96141df86c3d4d426523226",
            "b6b1078462d542fe9946ab40ac89aad6",
            "71d54201d73d46cbb675d5d47577c8e5",
            "b27d46fa47144d36beebf82ef5abec7c",
            "755335b75c2b4fe789f8aacaa0e3e229",
            "315716f233a24a1b9951a266d9187fb1",
            "e2df108fc9e64426869aa9d8be18e93f",
            "ae6c38e0da2e4825a1df69fc36056a64",
            "91d1206df2904a7eab254a9c10df3c56",
            "46f1ebb35ba24bc69447f15483f4e57c",
            "79e0ab3138744e63be66dea9a9a26b01",
            "147d593d29314cab800f715521c32bfe",
            "36c9d99d7fe647aba74a25c02bd1fa9b",
            "8e58a39edf514a658da58716690aa4a7",
            "a5951cd9bcbf47cf8fbf36f13d68811f",
            "ff4d2e1901cb4a54a983b32e36dfeb3c",
            "b61516032a4541c8a01f5d46c95337b6",
            "748512b54c5748eaab0f83a826744f4b",
            "f31cd702fe864f6cbef82bc7fcf77e13",
            "deda7c43fba549d092c52a4ae2ea6dc4",
            "af3dc5541b73412cbdac5ab7413ab210",
            "b6be4bdf787c4573b2a617b1880d2372",
            "89c195e8e3e149cb8d66cff7c414837a",
            "aa7409416e8e40379eb344a3fb75f3a6",
            "d2d4e70ddf1a4914a8b84e0194e33bf0",
            "17c44841aaf44fca8a601dd0b4b6587c",
            "ee8e4483c9fd44cb9e93c57fdeef36dc",
            "c4f3662500e44f24a681b39efdc18dcc",
            "dd389053702e45419aa0ca07dbe5736b",
            "778e136019b54706812b8ad6496f8f7c",
            "9cd3e8525153409f8fc7990bb5714db8",
            "a7126ab62db443d181b7c1ff87dee51c",
            "232675c52609451da40aa138369dd666",
            "3571383d9de649479b83b618cbe8b931",
            "0eabcdfb911e4a9fa3418aa4489a63e8",
            "0274c6f0c721445583e3029a83b7816c",
            "61927c1fdadb467b967c3b879e8879e7",
            "833f6736d7254c4f940d8c3af59051a2",
            "ead8c28eeeda4c5b8961e1d76c744679",
            "a4931467125148ccabeb693d94eecfd0",
            "59294a9a4f7a413ebafdd5f86c07c404",
            "e6bce67b2c24495c9c7ce14b10323c55",
            "ee2ad80d6f3f4a12b58a222f70c78f40",
            "5bb2840b8fda44358d5ac5bf63c0b722",
            "1e65132c22e548a88fa1ffa97f4f88e9",
            "a87c386db96f43d9961a074ac3f12a34",
            "c525a83e790c47b48baf35a25a7079eb",
            "9afb3f5e371e45639e0983bdc557d9f6",
            "3162057bc3d343bbb6581a94eb7f7bb7",
            "c6eaf705de124a7d8482533536c9d729",
            "9e920242344e4bd480f61ca343dd5a13",
            "d493ffe9913248d2993c9f71284f2dbc",
            "f72380829b92400f943150d5c18f42a1",
            "23d8b64844d441c7a7fd26300fc54d3e",
            "e3526db9e5db4d7197f66c8ded51ec52",
            "d51eda5f3dbf4f5d97eb983501b77459",
            "00da900de27245b2bfd469ca05cf3f88",
            "0d8b9af314134da390467e6c3130ec4a",
            "2c85c5eb5e04471aa8d3428a8989fa83",
            "f2dd59bac4fb4e0f91c01393dbdc5eaa",
            "743d15b7acad4192aac8f6c5bf39b60f",
            "5e51d4f7734540b28b148d2b3e1bbfc0",
            "9f51613411b84c6ea613ec9cacc94af8",
            "fe81792601bb4266819f2220a2c59a7d",
            "ab66bff8f99345bf9d589a5246392fd0",
            "495fce1ecd204bafa8090379be1a49d7",
            "ec9af2c2f4524f2d95ec51b94390d6e5",
            "0e7905544f704e86847ad492400744a9",
            "38623bd55c514edcaa216e1fd1c3d318",
            "7a19ad114dc346d08ab9db6a09ca118f",
            "e5094227cf89439c9a41fc68e43a5f29",
            "5759076bd2f84cc5ad07489d5ade19fa",
            "40208c5d15d3482e8b43755610662324",
            "ad94aea0d8ed4427ad96460c3f38ec24",
            "95f63c3cccc34a598088d67cf1fe7270",
            "d01b527c298f467193ca9f39ba794e75",
            "a47887c3ded648209fca2ae7716dd5fe",
            "e0267ba5505b418b944f7ae5e02456b1",
            "c88ae27fa138489da769f263318b5c5b",
            "101d73f935e945c798d416e3a7e47422",
            "90f5991cd50447d19bf41bf4560d31fd",
            "19dd5296f3cb456f8e962d60b28e8c73",
            "2967303c96ae49f2885de3a4ef54355a",
            "92c267aea6da44dd9e9cdb2ce17a05f5",
            "57063b32d193452f8986a191a055d838",
            "3c62a3627bc945aeb66e9202ca4908da",
            "727e64f5534a4d6e88b9840c0771dad1",
            "fb24abf7937d4458ababab67eae3388a",
            "ac062571cc294eb5913ee80b73cbb080",
            "f00542341882466e8a78837cbfabcc0d",
            "4d58ceda62374aeea8d124d9e109f7e0"
          ]
        },
        "id": "71c686cb",
        "outputId": "a6703fb6-fb41-4a54-9666-a2ed90a0305c"
      },
      "outputs": [
        {
          "name": "stdout",
          "output_type": "stream",
          "text": [
            "Generating SBERT embeddings...\n"
          ]
        },
        {
          "name": "stderr",
          "output_type": "stream",
          "text": [
            "/usr/local/lib/python3.11/dist-packages/huggingface_hub/utils/_auth.py:94: UserWarning: \n",
            "The secret `HF_TOKEN` does not exist in your Colab secrets.\n",
            "To authenticate with the Hugging Face Hub, create a token in your settings tab (https://huggingface.co/settings/tokens), set it as secret in your Google Colab and restart your session.\n",
            "You will be able to reuse this secret in all of your notebooks.\n",
            "Please note that authentication is recommended but still optional to access public models or datasets.\n",
            "  warnings.warn(\n"
          ]
        },
        {
          "data": {
            "application/vnd.jupyter.widget-view+json": {
              "model_id": "007c661ea83042daae91709e2e4efe1f",
              "version_major": 2,
              "version_minor": 0
            },
            "text/plain": [
              "modules.json:   0%|          | 0.00/349 [00:00<?, ?B/s]"
            ]
          },
          "metadata": {},
          "output_type": "display_data"
        },
        {
          "data": {
            "application/vnd.jupyter.widget-view+json": {
              "model_id": "a632fdda89944f1f9128155d7014c53d",
              "version_major": 2,
              "version_minor": 0
            },
            "text/plain": [
              "config_sentence_transformers.json:   0%|          | 0.00/116 [00:00<?, ?B/s]"
            ]
          },
          "metadata": {},
          "output_type": "display_data"
        },
        {
          "data": {
            "application/vnd.jupyter.widget-view+json": {
              "model_id": "64f27b9691fa4a5482448cc2370c4728",
              "version_major": 2,
              "version_minor": 0
            },
            "text/plain": [
              "README.md:   0%|          | 0.00/10.5k [00:00<?, ?B/s]"
            ]
          },
          "metadata": {},
          "output_type": "display_data"
        },
        {
          "data": {
            "application/vnd.jupyter.widget-view+json": {
              "model_id": "b27d46fa47144d36beebf82ef5abec7c",
              "version_major": 2,
              "version_minor": 0
            },
            "text/plain": [
              "sentence_bert_config.json:   0%|          | 0.00/53.0 [00:00<?, ?B/s]"
            ]
          },
          "metadata": {},
          "output_type": "display_data"
        },
        {
          "data": {
            "application/vnd.jupyter.widget-view+json": {
              "model_id": "a5951cd9bcbf47cf8fbf36f13d68811f",
              "version_major": 2,
              "version_minor": 0
            },
            "text/plain": [
              "config.json:   0%|          | 0.00/612 [00:00<?, ?B/s]"
            ]
          },
          "metadata": {},
          "output_type": "display_data"
        },
        {
          "name": "stderr",
          "output_type": "stream",
          "text": [
            "Xet Storage is enabled for this repo, but the 'hf_xet' package is not installed. Falling back to regular HTTP download. For better performance, install the package with: `pip install huggingface_hub[hf_xet]` or `pip install hf_xet`\n",
            "WARNING:huggingface_hub.file_download:Xet Storage is enabled for this repo, but the 'hf_xet' package is not installed. Falling back to regular HTTP download. For better performance, install the package with: `pip install huggingface_hub[hf_xet]` or `pip install hf_xet`\n"
          ]
        },
        {
          "data": {
            "application/vnd.jupyter.widget-view+json": {
              "model_id": "17c44841aaf44fca8a601dd0b4b6587c",
              "version_major": 2,
              "version_minor": 0
            },
            "text/plain": [
              "model.safetensors:   0%|          | 0.00/90.9M [00:00<?, ?B/s]"
            ]
          },
          "metadata": {},
          "output_type": "display_data"
        },
        {
          "data": {
            "application/vnd.jupyter.widget-view+json": {
              "model_id": "61927c1fdadb467b967c3b879e8879e7",
              "version_major": 2,
              "version_minor": 0
            },
            "text/plain": [
              "tokenizer_config.json:   0%|          | 0.00/350 [00:00<?, ?B/s]"
            ]
          },
          "metadata": {},
          "output_type": "display_data"
        },
        {
          "data": {
            "application/vnd.jupyter.widget-view+json": {
              "model_id": "9afb3f5e371e45639e0983bdc557d9f6",
              "version_major": 2,
              "version_minor": 0
            },
            "text/plain": [
              "vocab.txt:   0%|          | 0.00/232k [00:00<?, ?B/s]"
            ]
          },
          "metadata": {},
          "output_type": "display_data"
        },
        {
          "data": {
            "application/vnd.jupyter.widget-view+json": {
              "model_id": "2c85c5eb5e04471aa8d3428a8989fa83",
              "version_major": 2,
              "version_minor": 0
            },
            "text/plain": [
              "tokenizer.json:   0%|          | 0.00/466k [00:00<?, ?B/s]"
            ]
          },
          "metadata": {},
          "output_type": "display_data"
        },
        {
          "data": {
            "application/vnd.jupyter.widget-view+json": {
              "model_id": "7a19ad114dc346d08ab9db6a09ca118f",
              "version_major": 2,
              "version_minor": 0
            },
            "text/plain": [
              "special_tokens_map.json:   0%|          | 0.00/112 [00:00<?, ?B/s]"
            ]
          },
          "metadata": {},
          "output_type": "display_data"
        },
        {
          "data": {
            "application/vnd.jupyter.widget-view+json": {
              "model_id": "90f5991cd50447d19bf41bf4560d31fd",
              "version_major": 2,
              "version_minor": 0
            },
            "text/plain": [
              "config.json:   0%|          | 0.00/190 [00:00<?, ?B/s]"
            ]
          },
          "metadata": {},
          "output_type": "display_data"
        },
        {
          "name": "stdout",
          "output_type": "stream",
          "text": [
            "Evaluating models...\n",
            "\n",
            "SBERT Embedding + Model AUC Scores:\n",
            "Logistic Regression: AUC = 0.9513\n",
            "SVM: AUC = 0.9415\n",
            "Naive Bayes: AUC = 0.9319\n",
            "Random Forest: AUC = 0.9308\n"
          ]
        }
      ],
      "source": [
        "import pandas as pd\n",
        "import numpy as np\n",
        "from sentence_transformers import SentenceTransformer\n",
        "from sklearn.model_selection import cross_val_score\n",
        "from sklearn.linear_model import LogisticRegression\n",
        "from sklearn.svm import SVC\n",
        "from sklearn.naive_bayes import GaussianNB\n",
        "from sklearn.ensemble import RandomForestClassifier\n",
        "from sklearn.pipeline import make_pipeline\n",
        "from sklearn.preprocessing import StandardScaler\n",
        "\n",
        "# Load and prepare data\n",
        "df = pd.read_csv(\"data_stories_one_shot.csv\")\n",
        "df[\"Label\"] = df[\"Stage\"].apply(lambda x: 1 if x == 1 else 0)\n",
        "\n",
        "# Generate SBERT embeddings\n",
        "print(\"Generating SBERT embeddings...\")\n",
        "sbert = SentenceTransformer('all-MiniLM-L6-v2')\n",
        "X_sbert = sbert.encode(df[\"Sentence\"].tolist())\n",
        "y = df[\"Label\"].values\n",
        "\n",
        "# Define models\n",
        "models = {\n",
        "    \"Logistic Regression\": LogisticRegression(max_iter=1000),\n",
        "    \"SVM\": make_pipeline(StandardScaler(), SVC(kernel='linear', probability=True)),\n",
        "    \"Naive Bayes\": GaussianNB(),\n",
        "    \"Random Forest\": RandomForestClassifier(n_estimators=100, random_state=42)\n",
        "}\n",
        "\n",
        "# Evaluate models using 5-fold CV and AUC\n",
        "print(\"Evaluating models...\")\n",
        "results = {}\n",
        "for name, model in models.items():\n",
        "    aucs = cross_val_score(model, X_sbert, y, scoring=\"roc_auc\", cv=5)\n",
        "    results[name] = np.mean(aucs)\n",
        "\n",
        "# Print results\n",
        "print(\"\\nSBERT Embedding + Model AUC Scores:\")\n",
        "for model, auc in results.items():\n",
        "    print(f\"{model}: AUC = {auc:.4f}\")\n"
      ]
    },
    {
      "cell_type": "markdown",
      "id": "958f8dcc",
      "metadata": {
        "id": "958f8dcc"
      },
      "source": [
        "#a small paragraph summarizing your finding\n",
        "In this experiment, we compared traditional TF-IDF vectorization with SBERT (Sentence-BERT) embeddings for classifying data stories into \"show\" vs \"tell\" categories using Logistic Regression, Naive Bayes, SVM, and Random Forest classifiers. The results demonstrate that SBERT embeddings consistently outperform TF-IDF across all models in zero-shot cross-validation. SBERT’s ability to capture contextual semantics provides a significant performance gain, especially for models like Logistic Regression and SVM."
      ]
    },
    {
      "cell_type": "markdown",
      "id": "055be6b7",
      "metadata": {
        "id": "055be6b7"
      },
      "source": [
        "#Comparison"
      ]
    },
    {
      "cell_type": "code",
      "execution_count": null,
      "id": "277fdf6c",
      "metadata": {
        "colab": {
          "base_uri": "https://localhost:8080/",
          "height": 507
        },
        "id": "277fdf6c",
        "outputId": "3482796a-4d48-45fc-aae0-c55be511f94e"
      },
      "outputs": [
        {
          "data": {
            "image/png": "[encoded data removed]",
            "text/plain": [
              "<Figure size 800x500 with 1 Axes>"
            ]
          },
          "metadata": {},
          "output_type": "display_data"
        }
      ],
      "source": [
        "import matplotlib.pyplot as plt\n",
        "import numpy as np\n",
        "\n",
        "#For cross validation\n",
        "tfidf_results = {\n",
        "    \"Logistic Regression\": 0.8990,\n",
        "    \"Naive Bayes\": 0.8990,\n",
        "    \"SVM\": 0.8939,\n",
        "    \"Random Forest\": 0.8513\n",
        "}\n",
        "\n",
        "sbert_results = {\n",
        "    \"Logistic Regression\": 0.9513,\n",
        "    \"Naive Bayes\": 0.9319,\n",
        "    \"SVM\": 0.9415,\n",
        "    \"Random Forest\": 0.9308\n",
        "}\n",
        "\n",
        "# Plotting\n",
        "models = list(tfidf_results.keys())\n",
        "x = np.arange(len(models))\n",
        "width = 0.35\n",
        "\n",
        "fig, ax = plt.subplots(figsize=(8, 5))\n",
        "bar1 = ax.bar(x - width/2, [tfidf_results[m] for m in models], width, label='TF-IDF')\n",
        "bar2 = ax.bar(x + width/2, [sbert_results[m] for m in models], width, label='SBERT')\n",
        "\n",
        "ax.set_ylabel('AUC Score')\n",
        "ax.set_title('TF-IDF vs SBERT Model Performance (AUC)')\n",
        "ax.set_xticks(x)\n",
        "ax.set_xticklabels(models)\n",
        "ax.set_ylim(0.85, 0.95)\n",
        "ax.legend()\n",
        "\n",
        "# Add AUC values on bars\n",
        "for bar in bar1 + bar2:\n",
        "    height = bar.get_height()\n",
        "    ax.annotate(f'{height:.3f}', xy=(bar.get_x() + bar.get_width() / 2, height),\n",
        "                xytext=(0, 3), textcoords=\"offset points\", ha='center', fontsize=8)\n",
        "\n",
        "plt.xticks(rotation=15)\n",
        "plt.tight_layout()\n",
        "plt.show()\n"
      ]
    },
    {
      "cell_type": "markdown",
      "source": [
        "GPT Policy:\n",
        "\n",
        "I took help from gpt for the following:\n",
        "\n",
        "Understanding how to explain the idea behind the distributional hypothesis more clearly.\n",
        "\n",
        "Figuring out how to add scoring tables into the notebook using Markdown (I even asked for the steps and followed them myself)\n",
        "\n",
        "Getting help with text preprocessing steps.\n",
        "\n",
        "Getting help with setting up and comparing multiple models (like Logistic Regression, Naive Bayes, and SVM) using cross-validation and organizing the results."
      ],
      "metadata": {
        "id": "yNmcl9Nm9goC"
      },
      "id": "yNmcl9Nm9goC"
    },
    {
      "cell_type": "code",
      "source": [],
      "metadata": {
        "id": "S69bWskR9pPX"
      },
      "id": "S69bWskR9pPX",
      "execution_count": null,
      "outputs": []
    }
  ],
  "metadata": {
    "colab": {
      "provenance": []
    }
  },
  "nbformat": 4,
  "nbformat_minor": 5
}