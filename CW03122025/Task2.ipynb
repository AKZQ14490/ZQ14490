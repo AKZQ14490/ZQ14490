{
  "metadata": {
    "kernelspec": {
      "name": "python",
      "display_name": "Python (Pyodide)",
      "language": "python"
    },
    "language_info": {
      "codemirror_mode": {
        "name": "python",
        "version": 3
      },
      "file_extension": ".py",
      "mimetype": "text/x-python",
      "name": "python",
      "nbconvert_exporter": "python",
      "pygments_lexer": "ipython3",
      "version": "3.8"
    }
  },
  "nbformat_minor": 5,
  "nbformat": 4,
  "cells": [
    {
      "id": "7f99330c-1346-417f-b192-c1f599869987",
      "cell_type": "code",
      "source": "import pandas as pd\n\n# Load the dataset (Ensure 'student_data.csv' is in the same directory)\ndata = pd.read_csv(\"student_data.csv\")\n\n# Display the first few rows to confirm\nprint(data.head())\n",
      "metadata": {
        "trusted": true
      },
      "outputs": [
        {
          "name": "stdout",
          "output_type": "stream",
          "text": "   Hours_Studied  Review_Session  Results\n0       3.745401               0        0\n1       9.507143               1        1\n2       7.319939               0        1\n3       5.986585               0        1\n4       1.560186               1        1\n"
        }
      ],
      "execution_count": 1
    },
    {
      "id": "9a3ff3fe-3c60-4ad8-bbe0-706861909e99",
      "cell_type": "code",
      "source": "# Define the independent variables (features) and dependent variable (target)\nX = data[['Hours_Studied', 'Review_Session']]  # Features\ny = data['Results']  # Target (Pass/Fail)\n",
      "metadata": {
        "trusted": true
      },
      "outputs": [],
      "execution_count": 2
    },
    {
      "id": "9a2d6313-dda6-4c93-9b76-05e9ea3258d0",
      "cell_type": "code",
      "source": "from sklearn.svm import SVC\nfrom sklearn.model_selection import cross_val_score\n\n# Train an SVM model with a linear kernel\nsvm_linear = SVC(kernel='linear', probability=True)\nsvm_linear.fit(X, y)\n\n# Evaluate Model Accuracy Using Cross-Validation\nlinear_accuracy = cross_val_score(svm_linear, X, y, cv=5).mean()\nprint(f\"Linear SVM Accuracy: {linear_accuracy:.2f}\")\n",
      "metadata": {
        "trusted": true
      },
      "outputs": [
        {
          "name": "stdout",
          "output_type": "stream",
          "text": "Linear SVM Accuracy: 0.91\n"
        }
      ],
      "execution_count": 3
    },
    {
      "id": "176f529b-882b-4431-a488-cdebfb5e57d8",
      "cell_type": "code",
      "source": "",
      "metadata": {
        "trusted": true
      },
      "outputs": [],
      "execution_count": null
    }
  ]
}